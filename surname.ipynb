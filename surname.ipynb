{
 "cells": [
  {
   "cell_type": "code",
   "execution_count": 1,
   "id": "a446cd87",
   "metadata": {},
   "outputs": [],
   "source": [
    "from hashlib import md5"
   ]
  },
  {
   "cell_type": "code",
   "execution_count": 2,
   "id": "afd2e620",
   "metadata": {},
   "outputs": [],
   "source": [
    "def surname(name1,name2): # note that name1 and name2 should already be hashed values\n",
    "    if name1 <= name2:\n",
    "        return md5((name1+name2).encode()).hexdigest()\n",
    "    else:\n",
    "        return md5((name2+name1).encode()).hexdigest()           "
   ]
  }
 ],
 "metadata": {
  "kernelspec": {
   "display_name": "Python 3.10.12 - rstudio",
   "language": "python",
   "name": "rstudio-user-3.10.12"
  },
  "language_info": {
   "codemirror_mode": {
    "name": "ipython",
    "version": 3
   },
   "file_extension": ".py",
   "mimetype": "text/x-python",
   "name": "python",
   "nbconvert_exporter": "python",
   "pygments_lexer": "ipython3",
   "version": "3.10.12"
  }
 },
 "nbformat": 4,
 "nbformat_minor": 5
}
